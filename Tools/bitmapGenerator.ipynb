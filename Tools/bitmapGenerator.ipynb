{
 "cells": [
  {
   "cell_type": "markdown",
   "metadata": {},
   "source": [
    "# Generic Bitmap Generator\n",
    "\n",
    "A generic bitmap generator. In this case, the bitmap is determines the 8-12 bit signal values in given sequence used to determine symbols of modulation."
   ]
  },
  {
   "cell_type": "code",
   "execution_count": 23,
   "metadata": {},
   "outputs": [],
   "source": [
    "import numpy as np\n",
    "\n",
    "def cosineBitmap (amplitude, shift, resolution, frequency, offset, num_period):\n",
    "    \n",
    "    # Determine the number of horizontal divisions\n",
    "    # Higher the resolution, the slower the output frequency\n",
    "    num_samples = (2**resolution)\n",
    "    \n",
    "    # Create sample index for array, defined with desired number of periods\n",
    "    samples = np.arange(num_period * num_samples)\n",
    "    \n",
    "    # Calculate Bitmap\n",
    "    bitmap = amplitude * np.cos(frequency * (2*np.pi*samples)/(num_samples) + shift) + offset\n",
    "    \n",
    "    return bitmap\n",
    "\n",
    "def sineBitmap (amplitude, shift, resolution, frequency, offset, num_period):\n",
    "    \n",
    "    # Determine the number of horizontal divisions\n",
    "    # Higher the resolution, the slower the output frequency\n",
    "    num_samples = (2**resolution)\n",
    "    \n",
    "    # Create sample index for array, defined with desired number of periods\n",
    "    samples = np.arange(num_period * num_samples)\n",
    "    \n",
    "    # Calculate Bitmap\n",
    "    bitmap = amplitude * np.sin(frequency * (2*np.pi*samples)/(num_samples) + shift) + offset\n",
    "    \n",
    "    return bitmap\n",
    "\n",
    "def formatBitmap (bitmap):\n",
    "\n",
    "    i = 1\n",
    "\n",
    "    string = ''\n",
    "\n",
    "    for value in bitmap:\n",
    "        \n",
    "        if value < 1000 and value > 100:\n",
    "            \n",
    "            string = string + ' ' + (str(int(value)) + ', ')\n",
    "            \n",
    "        elif value < 100 and value > 10:\n",
    "            \n",
    "            string = string + '  ' + (str(int(value)) + ', ')\n",
    "            \n",
    "        elif value < 10:\n",
    "            \n",
    "            string = string + '   ' + (str(int(value)) + ', ')\n",
    "            \n",
    "        else:\n",
    "            string = string + (str(int(value)) + ', ')\n",
    "        \n",
    "        if i % 8 == 0:\n",
    "            \n",
    "            string = string + ('\\n')\n",
    "            \n",
    "        i = i + 1\n",
    "            \n",
    "    print(string)\n",
    "\n",
    "bitmap = sineBitmap (511, 0, 5,1, 511, 1) \n",
    "\n",
    "bitmap2 = sineBitmap (511, 0, 5,2, 511, 1) \n",
    "    "
   ]
  },
  {
   "cell_type": "code",
   "execution_count": 24,
   "metadata": {},
   "outputs": [
    {
     "name": "stdout",
     "output_type": "stream",
     "text": [
      " 511,  610,  706,  794,  872,  935,  983, 1012, \n",
      "1022, 1012,  983,  935,  872,  794,  706,  610, \n",
      " 511,  411,  315,  227,  149,   86,   38,    9, \n",
      "   0,    9,   38,   86,  149,  227,  315,  411, \n",
      "\n"
     ]
    }
   ],
   "source": [
    "formatBitmap(bitmap)"
   ]
  },
  {
   "cell_type": "code",
   "execution_count": 25,
   "metadata": {},
   "outputs": [
    {
     "name": "stdout",
     "output_type": "stream",
     "text": [
      " 511,  706,  872,  983, 1022,  983,  872,  706, \n",
      " 511,  315,  149,   38,    0,   38,  149,  315, \n",
      " 510,  706,  872,  983, 1022,  983,  872,  706, \n",
      " 511,  315,  149,   38,    0,   38,  149,  315, \n",
      "\n"
     ]
    }
   ],
   "source": [
    "formatBitmap(bitmap2)"
   ]
  },
  {
   "cell_type": "code",
   "execution_count": 26,
   "metadata": {},
   "outputs": [
    {
     "name": "stderr",
     "output_type": "stream",
     "text": [
      "C:\\Users\\navni\\AppData\\Local\\Temp\\ipykernel_34072\\3971517909.py:4: UserWarning: color is redundantly defined by the 'color' keyword argument and the fmt string \"ro\" (-> color='r'). The keyword argument will take precedence.\n",
      "  plt.plot(bitmap2, 'ro', color='blue')\n"
     ]
    },
    {
     "data": {
      "image/png": "[encoded data removed]",
      "text/plain": [
       "<Figure size 640x480 with 1 Axes>"
      ]
     },
     "metadata": {},
     "output_type": "display_data"
    }
   ],
   "source": [
    "import matplotlib.pyplot as plt\n",
    "\n",
    "plt.plot(bitmap, 'ro')\n",
    "plt.plot(bitmap2, 'ro', color='blue')\n",
    "plt.title('Sampled Sine Wave')\n",
    "plt.xlabel('Sample Index')\n",
    "plt.ylabel('Amplitude')\n",
    "plt.grid(True)\n",
    "plt.show()"
   ]
  },
  {
   "cell_type": "markdown",
   "metadata": {},
   "source": [
    "# Frequency Specific Bitmap  Generator\n",
    "\n",
    "This bitmap generator can used to produce frequency specific symbols for modulation based on fasted update rate of the Teensy 4.1 running a 20 MHz SPI bus for MCP4811 10 bit DAC. The time between sample updates was measured to be 1.305 microseconds."
   ]
  },
  {
   "cell_type": "code",
   "execution_count": 27,
   "metadata": {},
   "outputs": [],
   "source": [
    "def cosineBitmap (amplitude, shift, num_samples, offset, num_period):\n",
    "\n",
    "    # Create sample index for array, defined with desired number of periods\n",
    "    samples = np.arange(num_period * num_samples)\n",
    "    \n",
    "    # Calculate Bitmap\n",
    "    bitmap = amplitude * np.cos((2*np.pi*samples)/(num_samples) + shift) + offset\n",
    "    \n",
    "    return bitmap\n",
    "\n",
    "def sineBitmap (amplitude, shift, num_samples, offset, num_period):\n",
    "    \n",
    "    # Create sample index for array, defined with desired number of periods\n",
    "    samples = np.arange(num_period * num_samples)\n",
    "    \n",
    "    # Calculate Bitmap\n",
    "    bitmap = amplitude * np.sin((2*np.pi*samples)/(num_samples) + shift) + offset\n",
    "    \n",
    "    return bitmap\n",
    "\n",
    "def getNumSamples (frequency):\n",
    "    \n",
    "    num_samples = int((1/frequency) / (1.305 * 10**(-6)))\n",
    "    print(f'{num_samples + 1} samples will generate a {1/((num_samples+1)*(1.305 * 10**(-6)))} waveform\\n')\n",
    "    print(f'{num_samples} samples will generate a {1/((num_samples)*(1.305 * 10**(-6)))} waveform\\n')\n",
    "    print(f'{num_samples-1} samples will generate a {1/((num_samples-1)*(1.305 * 10**(-6)))} waveform\\n')\n"
   ]
  },
  {
   "cell_type": "code",
   "execution_count": 28,
   "metadata": {},
   "outputs": [
    {
     "name": "stdout",
     "output_type": "stream",
     "text": [
      "8 samples will generate a 95785.44061302683 waveform\n",
      "\n",
      "7 samples will generate a 109469.0749863164 waveform\n",
      "\n",
      "6 samples will generate a 127713.92081736913 waveform\n",
      "\n"
     ]
    }
   ],
   "source": [
    "getNumSamples(100000)"
   ]
  },
  {
   "cell_type": "code",
   "execution_count": 29,
   "metadata": {},
   "outputs": [
    {
     "name": "stdout",
     "output_type": "stream",
     "text": [
      "11 samples will generate a 69662.13862765588 waveform\n",
      "\n",
      "10 samples will generate a 76628.35249042146 waveform\n",
      "\n",
      "9 samples will generate a 85142.61387824608 waveform\n",
      "\n"
     ]
    }
   ],
   "source": [
    "getNumSamples(75000)"
   ]
  },
  {
   "cell_type": "code",
   "execution_count": 30,
   "metadata": {},
   "outputs": [],
   "source": [
    "bitmap = sineBitmap (amplitude=511, shift=0, num_samples=8, offset=511, num_period=1)\n",
    "bitmap2 = sineBitmap (amplitude=300, shift=0, num_samples=10, offset=300, num_period=1)"
   ]
  },
  {
   "cell_type": "code",
   "execution_count": 31,
   "metadata": {},
   "outputs": [
    {
     "name": "stdout",
     "output_type": "stream",
     "text": [
      " 511,  872, 1022,  872,  511,  149,    0,  149, \n",
      "\n"
     ]
    }
   ],
   "source": [
    "formatBitmap(bitmap)"
   ]
  },
  {
   "cell_type": "code",
   "execution_count": 32,
   "metadata": {},
   "outputs": [
    {
     "name": "stdout",
     "output_type": "stream",
     "text": [
      " 300,  476,  585,  585,  476,  300,  123,   14, \n",
      "  14,  123, \n"
     ]
    }
   ],
   "source": [
    "formatBitmap(bitmap2)"
   ]
  },
  {
   "cell_type": "code",
   "execution_count": 33,
   "metadata": {},
   "outputs": [
    {
     "name": "stderr",
     "output_type": "stream",
     "text": [
      "C:\\Users\\navni\\AppData\\Local\\Temp\\ipykernel_34072\\3971517909.py:4: UserWarning: color is redundantly defined by the 'color' keyword argument and the fmt string \"ro\" (-> color='r'). The keyword argument will take precedence.\n",
      "  plt.plot(bitmap2, 'ro', color='blue')\n"
     ]
    },
    {
     "data": {
      "image/png": "[encoded data removed]",
      "text/plain": [
       "<Figure size 640x480 with 1 Axes>"
      ]
     },
     "metadata": {},
     "output_type": "display_data"
    }
   ],
   "source": [
    "import matplotlib.pyplot as plt\n",
    "\n",
    "plt.plot(bitmap, 'ro')\n",
    "plt.plot(bitmap2, 'ro', color='blue')\n",
    "plt.title('Sampled Sine Wave')\n",
    "plt.xlabel('Sample Index')\n",
    "plt.ylabel('Amplitude')\n",
    "plt.grid(True)\n",
    "plt.show()"
   ]
  }
 ],
 "metadata": {
  "kernelspec": {
   "display_name": "Python 3",
   "language": "python",
   "name": "python3"
  },
  "language_info": {
   "codemirror_mode": {
    "name": "ipython",
    "version": 3
   },
   "file_extension": ".py",
   "mimetype": "text/x-python",
   "name": "python",
   "nbconvert_exporter": "python",
   "pygments_lexer": "ipython3",
   "version": "3.11.5"
  }
 },
 "nbformat": 4,
 "nbformat_minor": 2
}
